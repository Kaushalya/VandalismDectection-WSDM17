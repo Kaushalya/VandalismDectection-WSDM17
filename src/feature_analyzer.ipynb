{
 "cells": [
  {
   "cell_type": "code",
   "execution_count": 1,
   "metadata": {
    "collapsed": false
   },
   "outputs": [],
   "source": [
    "import pandas as pd\n",
    "import numpy as np\n",
    "\n",
    "from sklearn.ensemble import RandomForestClassifier\n",
    "from sklearn.model_selection import train_test_split\n",
    "from sklearn.preprocessing import LabelEncoder\n",
    "from sklearn.metrics import log_loss\n",
    "from sklearn.metrics import precision_recall_curve\n",
    "from sklearn.metrics import average_precision_score\n",
    "from sklearn.metrics import precision_score\n",
    "from sklearn.metrics import recall_score\n",
    "from sklearn.metrics import roc_auc_score\n",
    "from sklearn.metrics import roc_curve\n",
    "\n",
    "import matplotlib.pyplot as plt\n",
    "\n",
    "#import ipdb; ipdb.set_trace()"
   ]
  },
  {
   "cell_type": "code",
   "execution_count": 2,
   "metadata": {
    "collapsed": true
   },
   "outputs": [],
   "source": [
    "def classify():\n",
    "    return \"not implemented\"\n",
    "\n",
    "def get_score(y_test, y_pred, plot=True):\n",
    "    precision, recall, _ = precision_recall_curve(y_test, y_pred[:,0])\n",
    "    avg_precision = average_precision_score(y_test, y_pred[:,0])\n",
    "    \n",
    "    if plot:\n",
    "        plt.clf()\n",
    "        plt.plot(recall, precision, lw=2, color='navy', label='Precision-Recall curve')\n",
    "        plt.xlabel('Recall')\n",
    "        plt.ylabel('Precision')\n",
    "        plt.show()\n",
    "    \n",
    "    return avg_precision\n",
    "\n",
    "def fill_missing_data():\n",
    "    return \"not implemented\""
   ]
  },
  {
   "cell_type": "code",
   "execution_count": 23,
   "metadata": {
    "collapsed": false
   },
   "outputs": [
    {
     "name": "stdout",
     "output_type": "stream",
     "text": [
      "number of rows: 99999\n",
      "number of feaure columns: 119\n"
     ]
    }
   ],
   "source": [
    "if __name__ == \"__main__\":\n",
    "    data = pd.read_csv(\"/home/kaushalya/Coding/wsdm_cup/vandalism/data/features100k.csv\", encoding='utf-8',\n",
    "                       header=0)\n",
    "    labeled_data = pd.read_csv(\"/home/kaushalya/Coding/wsdm_cup/vandalism/data/wikidata-vandalism-corpus-2015/wdvc15-ground-truth.csv\"\n",
    "                            , encoding='utf-8', header=0)"
   ]
  },
  {
   "cell_type": "code",
   "execution_count": 26,
   "metadata": {
    "collapsed": false
   },
   "outputs": [
    {
     "name": "stdout",
     "output_type": "stream",
     "text": [
      "number of rows: 99999\n",
      "number of feaure columns: 119\n"
     ]
    }
   ],
   "source": [
    "    review_info = {'revisionId':int}\n",
    "    \n",
    "    #content features (27 features)\n",
    "    character_features = {'groupId':float, 'itemId':float, 'alphanumericRatio':float,'asciiRatio':float,'bracketRatio':float,'digitRatio':float\n",
    "                    ,'latinRatio':float,'longestCharacterSequence':float,'lowerCaseRatio':float\n",
    "                    ,'nonLatinRatio':float,'punctuationRatio':float,'upperCaseRatio':float,'whitespaceRatio':float}    \n",
    "    word_features = {'languageWordRatio':float, 'containsLanguageWord':bool, 'lowerCaseWordRatio':float, \n",
    "                     'longestWord':float, 'containsURL':bool, 'badWordRatio':float, 'proportionOfQidAdded':float, \n",
    "                     'upperCaseWordRatio':float, 'proportionOfLinksAdded':float}\n",
    "    sentence_features = {'commentCommentSimilarity':float, 'commentLabelSimilarity':float, 'commentTailLength':float\n",
    "                         ,'commentSitelinkSimilarity':float}\n",
    "    statement_features = {'propertyFrequency':float, 'itemValueFrequency':float, 'literalValueFrequency':float}\n",
    "    \n",
    "    #contextual features (20 features)\n",
    "    user_features = {'isPrivilegedUser':bool, 'isRegisteredUser':bool, 'isBotUser':bool}\n",
    "\n",
    "    #TODO need to fins mapping column names for the following user features\n",
    "    #'cumUserUniqueItems':float, 'userFrequency':float\n",
    "            \n",
    "    user_cat_features = [ 'userCity', 'userContinent', 'userCountry', 'userCounty', 'userRegion', 'userTimeZone']\n",
    "    item_features = {'logCumItemUniqueUsers':float, 'logItemFrequency':float}\n",
    "    revision_features = {'isLatinLanguage':bool, 'commentLength':float}\n",
    "    revision_cat_features = ['revisionTag', 'revisionLanguage', 'revisionAction', 'revisionSubaction',\n",
    "                             'positionWithinSession']\n",
    "        \n",
    "    print(\"number of rows: %d\"%data.shape[0])\n",
    "    print(\"number of feaure columns: %d\"%data.shape[1]) \n",
    "    \n",
    "    cat_features = []\n",
    "    cat_features.extend(user_cat_features)\n",
    "    cat_features.extend(revision_cat_features)"
   ]
  },
  {
   "cell_type": "code",
   "execution_count": 4,
   "metadata": {
    "collapsed": false
   },
   "outputs": [],
   "source": [
    "cat_features = []\n",
    "cat_features.extend(user_cat_features)\n",
    "cat_features.extend(revision_cat_features)"
   ]
  },
  {
   "cell_type": "code",
   "execution_count": 27,
   "metadata": {
    "collapsed": false
   },
   "outputs": [],
   "source": [
    "numerical_features = {}\n",
    "numerical_features.update(review_info)\n",
    "numerical_features.update(character_features)\n",
    "numerical_features.update(word_features)\n",
    "numerical_features.update(sentence_features)\n",
    "#numerical_features.update(statement_features) \n",
    "numerical_features.update(user_features)\n",
    "#numerical_features.update(item_features)\n",
    "numerical_features.update(revision_features)\n",
    "\n",
    "selected_feature_list = []\n",
    "selected_feature_list.extend(numerical_features.keys())\n",
    "selected_feature_list.extend(cat_features)\n",
    "\n",
    "#numerical fields with '�' are replaced with -1 \n",
    "selected_data = data[selected_feature_list]\n",
    "\n",
    "#selected_data.loc[:,list(numerical_features.keys())] = selected_data.loc[:,list(numerical_features.keys())].replace(['�','NA'], -1, inplace=False)\n",
    "selected_data = selected_data.replace(['�', 'NA'], -1, inplace=False)\n",
    "\n",
    "for col in numerical_features.keys():\n",
    "    selected_data[col] = selected_data[col].astype(numerical_features[col])\n",
    "\n",
    "#replacing nan with -1\n",
    "selected_data.loc[:,list(numerical_features.keys())] = selected_data.loc[:,list(numerical_features.keys())].fillna(-1,inplace=False) "
   ]
  },
  {
   "cell_type": "code",
   "execution_count": null,
   "metadata": {
    "collapsed": false
   },
   "outputs": [],
   "source": [
    "%pdb"
   ]
  },
  {
   "cell_type": "code",
   "execution_count": 28,
   "metadata": {
    "collapsed": false
   },
   "outputs": [
    {
     "name": "stdout",
     "output_type": "stream",
     "text": [
      "userCity\n",
      "userContinent\n",
      "userCountry\n",
      "userCounty\n",
      "userRegion\n",
      "userTimeZone\n",
      "revisionTag\n",
      "revisionLanguage\n",
      "revisionAction\n",
      "revisionSubaction\n",
      "positionWithinSession\n"
     ]
    }
   ],
   "source": [
    "for col in cat_features:\n",
    "    #print(col)\n",
    "    selected_data[col] = selected_data[col].astype(str)"
   ]
  },
  {
   "cell_type": "code",
   "execution_count": 29,
   "metadata": {
    "collapsed": false
   },
   "outputs": [],
   "source": [
    "selected_data.to_csv(\"/home/kaushalya/Coding/wsdm_cup/vandalism/data/features100k_preprocessed.csv\")"
   ]
  },
  {
   "cell_type": "code",
   "execution_count": 30,
   "metadata": {
    "collapsed": false
   },
   "outputs": [
    {
     "name": "stdout",
     "output_type": "stream",
     "text": [
      "userCity\n",
      "userContinent\n",
      "userCountry\n",
      "userCounty\n",
      "userRegion\n",
      "userTimeZone\n",
      "revisionTag\n",
      "revisionLanguage\n",
      "revisionAction\n",
      "revisionSubaction\n",
      "positionWithinSession\n"
     ]
    }
   ],
   "source": [
    "#converting categorical variables into numerica lists\n",
    "le = LabelEncoder()\n",
    "#TODO pickle these columns\n",
    "\n",
    "for col in cat_features:\n",
    "    #print(col)\n",
    "    selected_data[col] = le.fit_transform(selected_data[col])"
   ]
  },
  {
   "cell_type": "code",
   "execution_count": 35,
   "metadata": {
    "collapsed": false
   },
   "outputs": [],
   "source": [
    "#using first 10k rows for training the model\n",
    "training_rows = range(50000)\n",
    "\n",
    "#initiaizing the RF classifier\n",
    "clf = RandomForestClassifier(max_depth=8, n_estimators=100)"
   ]
  },
  {
   "cell_type": "code",
   "execution_count": 36,
   "metadata": {
    "collapsed": false
   },
   "outputs": [
    {
     "data": {
      "text/plain": [
       "RandomForestClassifier(bootstrap=True, class_weight=None, criterion='gini',\n",
       "            max_depth=8, max_features='auto', max_leaf_nodes=None,\n",
       "            min_impurity_split=1e-07, min_samples_leaf=1,\n",
       "            min_samples_split=2, min_weight_fraction_leaf=0.0,\n",
       "            n_estimators=100, n_jobs=1, oob_score=False, random_state=None,\n",
       "            verbose=0, warm_start=False)"
      ]
     },
     "execution_count": 36,
     "metadata": {},
     "output_type": "execute_result"
    }
   ],
   "source": [
    "  x_train = selected_data.ix[training_rows,1:]\n",
    "  y_train = labeled_data.ix[training_rows,'rollback_reverted']\n",
    "  \n",
    "#TODO grid search to set parameters of the model\n",
    "  clf.fit(x_train, y_train)  "
   ]
  },
  {
   "cell_type": "code",
   "execution_count": 33,
   "metadata": {
    "collapsed": false
   },
   "outputs": [],
   "source": [
    "in_test = ~selected_data.index.isin(training_rows)\n",
    "x_test = selected_data.ix[in_test,1:]\n",
    "y_test = labeled_data.ix[in_test,'rollback_reverted']"
   ]
  },
  {
   "cell_type": "code",
   "execution_count": 54,
   "metadata": {
    "collapsed": false
   },
   "outputs": [
    {
     "name": "stdout",
     "output_type": "stream",
     "text": [
      "average precision:0.221969\n",
      "logloss score: 0.063033\n"
     ]
    }
   ],
   "source": [
    "y_pred = clf.predict_proba(x_test)\n",
    "logloss_score = log_loss(y_test, y_pred)\n",
    "\n",
    "#Precision-recall curve\n",
    "precision, recall, _ = precision_recall_curve(y_test, y_pred[:,1])\n",
    "avg_precision = average_precision_score(y_test, y_pred[:,1])\n",
    "\n",
    "#precision = precision_score(y_test, y_pred)\n",
    "#recall = recall_score(y_test, y_pred)\n",
    "print(\"average precision:%f\"%avg_precision)\n",
    "print(\"logloss score: %f\"%logloss_score)"
   ]
  },
  {
   "cell_type": "code",
   "execution_count": 53,
   "metadata": {
    "collapsed": false,
    "scrolled": true
   },
   "outputs": [
    {
     "data": {
      "image/png": "[encoded data removed]",
      "text/plain": [
       "<matplotlib.figure.Figure at 0x7f6d2794d6d8>"
      ]
     },
     "metadata": {},
     "output_type": "display_data"
    },
    {
     "name": "stdout",
     "output_type": "stream",
     "text": [
      "ROC-AUC score: 0.915095\n"
     ]
    }
   ],
   "source": [
    "plt.clf()\n",
    "plt.plot(recall, precision, lw=2, color='navy', label='Precision-Recall curve')\n",
    "plt.xlabel('Recall')\n",
    "plt.ylabel('Precision')\n",
    "plt.title('Precision-Recall curve')\n",
    "plt.show()"
   ]
  },
  {
   "cell_type": "code",
   "execution_count": 56,
   "metadata": {
    "collapsed": false
   },
   "outputs": [
    {
     "data": {
      "image/png": "[encoded data removed]",
      "text/plain": [
       "<matplotlib.figure.Figure at 0x7f6d25937198>"
      ]
     },
     "metadata": {},
     "output_type": "display_data"
    },
    {
     "name": "stdout",
     "output_type": "stream",
     "text": [
      "ROC-AUC score: 0.915095\n"
     ]
    }
   ],
   "source": [
    "#ROC curve\n",
    "fpr, tpr, _ = roc_curve(y_test, y_pred[:,1])\n",
    "roc_score = roc_auc_score(y_test, y_pred[:,1])\n",
    "\n",
    "plt.clf()\n",
    "plt.plot(fpr, tpr, lw=2, color='navy', label='ROC curve')\n",
    "plt.xlabel('False positive rate')\n",
    "plt.ylabel('True positive rate')\n",
    "plt.title('ROC curve')\n",
    "plt.show()\n",
    "print(\"ROC-AUC score: %f\"%roc_score)"
   ]
  },
  {
   "cell_type": "code",
   "execution_count": null,
   "metadata": {
    "collapsed": true
   },
   "outputs": [],
   "source": []
  }
 ],
 "metadata": {
  "anaconda-cloud": {},
  "kernelspec": {
   "display_name": "Python [wsdm17]",
   "language": "python",
   "name": "Python [wsdm17]"
  },
  "language_info": {
   "codemirror_mode": {
    "name": "ipython",
    "version": 3
   },
   "file_extension": ".py",
   "mimetype": "text/x-python",
   "name": "python",
   "nbconvert_exporter": "python",
   "pygments_lexer": "ipython3",
   "version": "3.5.2"
  }
 },
 "nbformat": 4,
 "nbformat_minor": 1
}
